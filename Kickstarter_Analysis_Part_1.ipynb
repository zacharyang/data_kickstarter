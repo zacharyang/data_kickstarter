{
 "cells": [
  {
   "cell_type": "code",
   "execution_count": 150,
   "metadata": {
    "collapsed": true
   },
   "outputs": [],
   "source": [
    "import pandas as pd\n",
    "import matplotlib as plt\n",
    "import seaborn as sns\n",
    "import numpy as np\n",
    "%matplotlib inline  "
   ]
  },
  {
   "cell_type": "code",
   "execution_count": 165,
   "metadata": {},
   "outputs": [
    {
     "data": {
      "text/html": [
       "<div>\n",
       "<style>\n",
       "    .dataframe thead tr:only-child th {\n",
       "        text-align: right;\n",
       "    }\n",
       "\n",
       "    .dataframe thead th {\n",
       "        text-align: left;\n",
       "    }\n",
       "\n",
       "    .dataframe tbody tr th {\n",
       "        vertical-align: top;\n",
       "    }\n",
       "</style>\n",
       "<table border=\"1\" class=\"dataframe\">\n",
       "  <thead>\n",
       "    <tr style=\"text-align: right;\">\n",
       "      <th></th>\n",
       "      <th>project id</th>\n",
       "      <th>name</th>\n",
       "      <th>url</th>\n",
       "      <th>category</th>\n",
       "      <th>subcategory</th>\n",
       "      <th>location</th>\n",
       "      <th>status</th>\n",
       "      <th>goal</th>\n",
       "      <th>pledged</th>\n",
       "      <th>funded percentage</th>\n",
       "      <th>backers</th>\n",
       "      <th>funded date</th>\n",
       "      <th>levels</th>\n",
       "      <th>reward levels</th>\n",
       "      <th>updates</th>\n",
       "      <th>comments</th>\n",
       "      <th>duration</th>\n",
       "    </tr>\n",
       "  </thead>\n",
       "  <tbody>\n",
       "    <tr>\n",
       "      <th>0</th>\n",
       "      <td>39409</td>\n",
       "      <td>WHILE THE TREES SLEEP</td>\n",
       "      <td>http://www.kickstarter.com/projects/emiliesaba...</td>\n",
       "      <td>Film &amp; Video</td>\n",
       "      <td>Short Film</td>\n",
       "      <td>Columbia, MO</td>\n",
       "      <td>successful</td>\n",
       "      <td>10500.0</td>\n",
       "      <td>11545.0</td>\n",
       "      <td>1.099524</td>\n",
       "      <td>66</td>\n",
       "      <td>Fri, 19 Aug 2011 19:28:17 -0000</td>\n",
       "      <td>7</td>\n",
       "      <td>$25,$50,$100,$250,$500,$1,000,$2,500</td>\n",
       "      <td>10</td>\n",
       "      <td>2</td>\n",
       "      <td>30.00</td>\n",
       "    </tr>\n",
       "    <tr>\n",
       "      <th>1</th>\n",
       "      <td>126581</td>\n",
       "      <td>Educational Online Trading Card Game</td>\n",
       "      <td>http://www.kickstarter.com/projects/972789543/...</td>\n",
       "      <td>Games</td>\n",
       "      <td>Board &amp; Card Games</td>\n",
       "      <td>Maplewood, NJ</td>\n",
       "      <td>failed</td>\n",
       "      <td>4000.0</td>\n",
       "      <td>20.0</td>\n",
       "      <td>0.005000</td>\n",
       "      <td>2</td>\n",
       "      <td>Mon, 02 Aug 2010 03:59:00 -0000</td>\n",
       "      <td>5</td>\n",
       "      <td>$1,$5,$10,$25,$50</td>\n",
       "      <td>6</td>\n",
       "      <td>0</td>\n",
       "      <td>47.18</td>\n",
       "    </tr>\n",
       "    <tr>\n",
       "      <th>2</th>\n",
       "      <td>138119</td>\n",
       "      <td>STRUM</td>\n",
       "      <td>http://www.kickstarter.com/projects/185476022/...</td>\n",
       "      <td>Film &amp; Video</td>\n",
       "      <td>Animation</td>\n",
       "      <td>Los Angeles, CA</td>\n",
       "      <td>live</td>\n",
       "      <td>20000.0</td>\n",
       "      <td>56.0</td>\n",
       "      <td>0.002800</td>\n",
       "      <td>3</td>\n",
       "      <td>Fri, 08 Jun 2012 00:00:31 -0000</td>\n",
       "      <td>10</td>\n",
       "      <td>$1,$10,$25,$40,$50,$100,$250,$1,000,$1,337,$9,001</td>\n",
       "      <td>1</td>\n",
       "      <td>0</td>\n",
       "      <td>28.00</td>\n",
       "    </tr>\n",
       "    <tr>\n",
       "      <th>3</th>\n",
       "      <td>237090</td>\n",
       "      <td>GETTING OVER - One son's search to finally kno...</td>\n",
       "      <td>http://www.kickstarter.com/projects/charnick/g...</td>\n",
       "      <td>Film &amp; Video</td>\n",
       "      <td>Documentary</td>\n",
       "      <td>Los Angeles, CA</td>\n",
       "      <td>successful</td>\n",
       "      <td>6000.0</td>\n",
       "      <td>6535.0</td>\n",
       "      <td>1.089167</td>\n",
       "      <td>100</td>\n",
       "      <td>Sun, 08 Apr 2012 02:14:00 -0000</td>\n",
       "      <td>13</td>\n",
       "      <td>$1,$10,$25,$30,$50,$75,$85,$100,$110,$250,$500...</td>\n",
       "      <td>4</td>\n",
       "      <td>0</td>\n",
       "      <td>32.22</td>\n",
       "    </tr>\n",
       "    <tr>\n",
       "      <th>4</th>\n",
       "      <td>246101</td>\n",
       "      <td>The Launch of FlyeGrlRoyalty &amp;quot;The New Nam...</td>\n",
       "      <td>http://www.kickstarter.com/projects/flyegrlroy...</td>\n",
       "      <td>Fashion</td>\n",
       "      <td>Fashion</td>\n",
       "      <td>Novi, MI</td>\n",
       "      <td>failed</td>\n",
       "      <td>3500.0</td>\n",
       "      <td>0.0</td>\n",
       "      <td>0.000000</td>\n",
       "      <td>0</td>\n",
       "      <td>Wed, 01 Jun 2011 15:25:39 -0000</td>\n",
       "      <td>6</td>\n",
       "      <td>$10,$25,$50,$100,$150,$250</td>\n",
       "      <td>2</td>\n",
       "      <td>0</td>\n",
       "      <td>30.00</td>\n",
       "    </tr>\n",
       "    <tr>\n",
       "      <th>5</th>\n",
       "      <td>316217</td>\n",
       "      <td>Dinner Party - a short film about friendship.....</td>\n",
       "      <td>http://www.kickstarter.com/projects/249354515/...</td>\n",
       "      <td>Film &amp; Video</td>\n",
       "      <td>Short Film</td>\n",
       "      <td>Portland, OR</td>\n",
       "      <td>successful</td>\n",
       "      <td>3500.0</td>\n",
       "      <td>3582.0</td>\n",
       "      <td>1.023331</td>\n",
       "      <td>39</td>\n",
       "      <td>Wed, 22 Jun 2011 13:33:00 -0000</td>\n",
       "      <td>7</td>\n",
       "      <td>$5,$25,$50,$100,$250,$500,$1,000</td>\n",
       "      <td>8</td>\n",
       "      <td>0</td>\n",
       "      <td>21.43</td>\n",
       "    </tr>\n",
       "    <tr>\n",
       "      <th>6</th>\n",
       "      <td>325034</td>\n",
       "      <td>Mezzo</td>\n",
       "      <td>http://www.kickstarter.com/projects/geoffsaysh...</td>\n",
       "      <td>Film &amp; Video</td>\n",
       "      <td>Short Film</td>\n",
       "      <td>Collegedale, TN</td>\n",
       "      <td>failed</td>\n",
       "      <td>1000.0</td>\n",
       "      <td>280.0</td>\n",
       "      <td>0.280000</td>\n",
       "      <td>8</td>\n",
       "      <td>Sat, 18 Feb 2012 02:17:08 -0000</td>\n",
       "      <td>5</td>\n",
       "      <td>$5,$10,$25,$50,$100</td>\n",
       "      <td>0</td>\n",
       "      <td>0</td>\n",
       "      <td>30.00</td>\n",
       "    </tr>\n",
       "    <tr>\n",
       "      <th>7</th>\n",
       "      <td>407836</td>\n",
       "      <td>Help APORTA continue to make handwoven/knit ac...</td>\n",
       "      <td>http://www.kickstarter.com/projects/1078097864...</td>\n",
       "      <td>Fashion</td>\n",
       "      <td>Fashion</td>\n",
       "      <td>Chicago, IL</td>\n",
       "      <td>successful</td>\n",
       "      <td>2000.0</td>\n",
       "      <td>2180.0</td>\n",
       "      <td>1.090000</td>\n",
       "      <td>46</td>\n",
       "      <td>Fri, 30 Dec 2011 04:36:53 -0000</td>\n",
       "      <td>7</td>\n",
       "      <td>$10,$20,$50,$100,$250,$500,$1,000</td>\n",
       "      <td>13</td>\n",
       "      <td>5</td>\n",
       "      <td>30.00</td>\n",
       "    </tr>\n",
       "    <tr>\n",
       "      <th>8</th>\n",
       "      <td>436325</td>\n",
       "      <td>Music - Comedy - Album!</td>\n",
       "      <td>http://www.kickstarter.com/projects/mattgriffo...</td>\n",
       "      <td>Music</td>\n",
       "      <td>Music</td>\n",
       "      <td>Chicago, IL</td>\n",
       "      <td>successful</td>\n",
       "      <td>1000.0</td>\n",
       "      <td>1125.0</td>\n",
       "      <td>1.125000</td>\n",
       "      <td>30</td>\n",
       "      <td>Sun, 18 Apr 2010 04:59:00 -0000</td>\n",
       "      <td>12</td>\n",
       "      <td>$5,$8,$10,$15,$20,$30,$50,$100,$120,$250,$500,...</td>\n",
       "      <td>10</td>\n",
       "      <td>1</td>\n",
       "      <td>67.53</td>\n",
       "    </tr>\n",
       "    <tr>\n",
       "      <th>9</th>\n",
       "      <td>610918</td>\n",
       "      <td>The Apocalypse Calendar</td>\n",
       "      <td>http://www.kickstarter.com/projects/tqvinn/the...</td>\n",
       "      <td>Art</td>\n",
       "      <td>Illustration</td>\n",
       "      <td>Chicago, IL</td>\n",
       "      <td>successful</td>\n",
       "      <td>7500.0</td>\n",
       "      <td>9836.0</td>\n",
       "      <td>1.311527</td>\n",
       "      <td>255</td>\n",
       "      <td>Tue, 01 Nov 2011 04:59:00 -0000</td>\n",
       "      <td>10</td>\n",
       "      <td>$1,$20,$35,$50,$60,$100,$110,$500,$1,000,$1,500</td>\n",
       "      <td>6</td>\n",
       "      <td>5</td>\n",
       "      <td>35.29</td>\n",
       "    </tr>\n",
       "  </tbody>\n",
       "</table>\n",
       "</div>"
      ],
      "text/plain": [
       "   project id                                               name  \\\n",
       "0       39409                              WHILE THE TREES SLEEP   \n",
       "1      126581               Educational Online Trading Card Game   \n",
       "2      138119                                              STRUM   \n",
       "3      237090  GETTING OVER - One son's search to finally kno...   \n",
       "4      246101  The Launch of FlyeGrlRoyalty &quot;The New Nam...   \n",
       "5      316217  Dinner Party - a short film about friendship.....   \n",
       "6      325034                                              Mezzo   \n",
       "7      407836  Help APORTA continue to make handwoven/knit ac...   \n",
       "8      436325                            Music - Comedy - Album!   \n",
       "9      610918                            The Apocalypse Calendar   \n",
       "\n",
       "                                                 url      category  \\\n",
       "0  http://www.kickstarter.com/projects/emiliesaba...  Film & Video   \n",
       "1  http://www.kickstarter.com/projects/972789543/...         Games   \n",
       "2  http://www.kickstarter.com/projects/185476022/...  Film & Video   \n",
       "3  http://www.kickstarter.com/projects/charnick/g...  Film & Video   \n",
       "4  http://www.kickstarter.com/projects/flyegrlroy...       Fashion   \n",
       "5  http://www.kickstarter.com/projects/249354515/...  Film & Video   \n",
       "6  http://www.kickstarter.com/projects/geoffsaysh...  Film & Video   \n",
       "7  http://www.kickstarter.com/projects/1078097864...       Fashion   \n",
       "8  http://www.kickstarter.com/projects/mattgriffo...         Music   \n",
       "9  http://www.kickstarter.com/projects/tqvinn/the...           Art   \n",
       "\n",
       "          subcategory         location      status     goal  pledged  \\\n",
       "0          Short Film     Columbia, MO  successful  10500.0  11545.0   \n",
       "1  Board & Card Games    Maplewood, NJ      failed   4000.0     20.0   \n",
       "2           Animation  Los Angeles, CA        live  20000.0     56.0   \n",
       "3         Documentary  Los Angeles, CA  successful   6000.0   6535.0   \n",
       "4             Fashion         Novi, MI      failed   3500.0      0.0   \n",
       "5          Short Film     Portland, OR  successful   3500.0   3582.0   \n",
       "6          Short Film  Collegedale, TN      failed   1000.0    280.0   \n",
       "7             Fashion      Chicago, IL  successful   2000.0   2180.0   \n",
       "8               Music      Chicago, IL  successful   1000.0   1125.0   \n",
       "9        Illustration      Chicago, IL  successful   7500.0   9836.0   \n",
       "\n",
       "   funded percentage  backers                      funded date  levels  \\\n",
       "0           1.099524       66  Fri, 19 Aug 2011 19:28:17 -0000       7   \n",
       "1           0.005000        2  Mon, 02 Aug 2010 03:59:00 -0000       5   \n",
       "2           0.002800        3  Fri, 08 Jun 2012 00:00:31 -0000      10   \n",
       "3           1.089167      100  Sun, 08 Apr 2012 02:14:00 -0000      13   \n",
       "4           0.000000        0  Wed, 01 Jun 2011 15:25:39 -0000       6   \n",
       "5           1.023331       39  Wed, 22 Jun 2011 13:33:00 -0000       7   \n",
       "6           0.280000        8  Sat, 18 Feb 2012 02:17:08 -0000       5   \n",
       "7           1.090000       46  Fri, 30 Dec 2011 04:36:53 -0000       7   \n",
       "8           1.125000       30  Sun, 18 Apr 2010 04:59:00 -0000      12   \n",
       "9           1.311527      255  Tue, 01 Nov 2011 04:59:00 -0000      10   \n",
       "\n",
       "                                       reward levels  updates  comments  \\\n",
       "0               $25,$50,$100,$250,$500,$1,000,$2,500       10         2   \n",
       "1                                  $1,$5,$10,$25,$50        6         0   \n",
       "2  $1,$10,$25,$40,$50,$100,$250,$1,000,$1,337,$9,001        1         0   \n",
       "3  $1,$10,$25,$30,$50,$75,$85,$100,$110,$250,$500...        4         0   \n",
       "4                         $10,$25,$50,$100,$150,$250        2         0   \n",
       "5                   $5,$25,$50,$100,$250,$500,$1,000        8         0   \n",
       "6                                $5,$10,$25,$50,$100        0         0   \n",
       "7                  $10,$20,$50,$100,$250,$500,$1,000       13         5   \n",
       "8  $5,$8,$10,$15,$20,$30,$50,$100,$120,$250,$500,...       10         1   \n",
       "9    $1,$20,$35,$50,$60,$100,$110,$500,$1,000,$1,500        6         5   \n",
       "\n",
       "   duration  \n",
       "0     30.00  \n",
       "1     47.18  \n",
       "2     28.00  \n",
       "3     32.22  \n",
       "4     30.00  \n",
       "5     21.43  \n",
       "6     30.00  \n",
       "7     30.00  \n",
       "8     67.53  \n",
       "9     35.29  "
      ]
     },
     "execution_count": 165,
     "metadata": {},
     "output_type": "execute_result"
    }
   ],
   "source": [
    "### Reading data and sanity checks ## \n",
    "df=pd.read_csv('DSI_kickstarterscrape_dataset.csv',encoding='latin1')\n",
    "df.head(10)"
   ]
  },
  {
   "cell_type": "markdown",
   "metadata": {},
   "source": [
    "### Q1: What is the mean (total) pledge that projects get?###\n",
    "A1: 4980"
   ]
  },
  {
   "cell_type": "code",
   "execution_count": 160,
   "metadata": {},
   "outputs": [
    {
     "data": {
      "text/plain": [
       "4980.749678963979"
      ]
     },
     "execution_count": 160,
     "metadata": {},
     "output_type": "execute_result"
    }
   ],
   "source": [
    "df.pledged.mean()"
   ]
  },
  {
   "cell_type": "markdown",
   "metadata": {},
   "source": [
    "### Q2: Create a histogram that shows the distribution for number of backers. What is the skew of the distribution?###\n",
    "A2: Distribution is positively skewed. Histogram shown below. "
   ]
  },
  {
   "cell_type": "code",
   "execution_count": 63,
   "metadata": {},
   "outputs": [
    {
     "data": {
      "image/png": "[encoded data removed]",
      "text/plain": [
       "<matplotlib.figure.Figure at 0x121b51a90>"
      ]
     },
     "metadata": {},
     "output_type": "display_data"
    }
   ],
   "source": [
    "hist=sns.distplot(df['backers'])"
   ]
  },
  {
   "cell_type": "markdown",
   "metadata": {},
   "source": []
  },
  {
   "cell_type": "code",
   "execution_count": 59,
   "metadata": {
    "scrolled": true
   },
   "outputs": [
    {
     "data": {
      "text/plain": [
       "[<matplotlib.text.Text at 0x121e59b70>,\n",
       " <matplotlib.text.Text at 0x121e5e240>,\n",
       " <matplotlib.text.Text at 0x122083940>,\n",
       " <matplotlib.text.Text at 0x12208c9e8>,\n",
       " <matplotlib.text.Text at 0x12208f3c8>,\n",
       " <matplotlib.text.Text at 0x12208fe80>]"
      ]
     },
     "execution_count": 59,
     "metadata": {},
     "output_type": "execute_result"
    },
    {
     "data": {
      "image/png": "[encoded data removed]",
      "text/plain": [
       "<matplotlib.figure.Figure at 0x121dac9b0>"
      ]
     },
     "metadata": {},
     "output_type": "display_data"
    }
   ],
   "source": [
    "## Generate histogram of number of backers on logarithmic scale ##\n",
    "\n",
    "df['log_backers']=np.log10(df['backers'].replace(0,np.nan))\n",
    "df['log_backers'].fillna(0,inplace=True)\n",
    "\n",
    "# For projects with no backers, log_backers to be set to zero since representation is only on the scale #\n",
    "hist2=sns.distplot(df['log_backers'])\n",
    "hist2.set_xticks([0,1,2,3,4,5])\n",
    "hist2.set_xticklabels([0,10,100,1000,10000,100000])"
   ]
  },
  {
   "cell_type": "markdown",
   "metadata": {},
   "source": [
    "Number of backers has a mass at zero for projects with no backers at all, distribution that is skewed to the right or positively. "
   ]
  },
  {
   "cell_type": "markdown",
   "metadata": {},
   "source": [
    "### Q3: Is the 'duration' variable normally distributed? ###\n",
    "A3: No. Histogram of duration variable does not show a symmetrical distribution. QQ plot vs normal distribution also does not show a 1-1 correspondence with a standard normal distribution."
   ]
  },
  {
   "cell_type": "code",
   "execution_count": 108,
   "metadata": {},
   "outputs": [
    {
     "data": {
      "text/plain": [
       "<matplotlib.axes._subplots.AxesSubplot at 0x123291b00>"
      ]
     },
     "execution_count": 108,
     "metadata": {},
     "output_type": "execute_result"
    },
    {
     "data": {
      "image/png": "[encoded data removed]",
      "text/plain": [
       "<matplotlib.figure.Figure at 0x12382a390>"
      ]
     },
     "metadata": {},
     "output_type": "display_data"
    }
   ],
   "source": [
    "## Histogram of duration ## \n",
    "\n",
    "sns.distplot(df['duration'])"
   ]
  },
  {
   "cell_type": "code",
   "execution_count": 110,
   "metadata": {},
   "outputs": [
    {
     "data": {
      "text/plain": [
       "[<matplotlib.lines.Line2D at 0x12375bbe0>]"
      ]
     },
     "execution_count": 110,
     "metadata": {},
     "output_type": "execute_result"
    },
    {
     "data": {
      "image/png": "[encoded data removed]",
      "text/plain": [
       "<matplotlib.figure.Figure at 0x123caeeb8>"
      ]
     },
     "metadata": {},
     "output_type": "display_data"
    }
   ],
   "source": [
    "## QQ plot of 'duration' vs normal distribution ##\n",
    "\n",
    "norm_dist=np.random.normal(0,1,size=df.shape[0])\n",
    "p=np.linspace(0,100,41)\n",
    "x=np.percentile(norm_dist,p)\n",
    "duration_norm=(df['duration']-df['duration'].mean())/np.sqrt(df['duration'].var())\n",
    "y=np.percentile(duration_norm,p)\n",
    "q=np.linspace(-4,4,20)\n",
    "sns.regplot(x,y,fit_reg=False)\n",
    "sns.plt.plot(q,q,ls=\"--\")"
   ]
  }
 ],
 "metadata": {
  "kernelspec": {
   "display_name": "Python 3",
   "language": "python",
   "name": "python3"
  },
  "language_info": {
   "codemirror_mode": {
    "name": "ipython",
    "version": 3
   },
   "file_extension": ".py",
   "mimetype": "text/x-python",
   "name": "python",
   "nbconvert_exporter": "python",
   "pygments_lexer": "ipython3",
   "version": "3.6.1"
  }
 },
 "nbformat": 4,
 "nbformat_minor": 2
}
